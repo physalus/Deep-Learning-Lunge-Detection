{
 "cells": [
  {
   "cell_type": "code",
   "execution_count": 1,
   "metadata": {},
   "outputs": [
    {
     "name": "stderr",
     "output_type": "stream",
     "text": [
      "/Users/hugo/anaconda3/lib/python3.6/site-packages/h5py/__init__.py:36: FutureWarning: Conversion of the second argument of issubdtype from `float` to `np.floating` is deprecated. In future, it will be treated as `np.float64 == np.dtype(float).type`.\n",
      "  from ._conv import register_converters as _register_converters\n",
      "Using TensorFlow backend.\n"
     ]
    }
   ],
   "source": [
    "import numpy as np\n",
    "import math\n",
    "import keras\n",
    "import matplotlib.pyplot as plt\n",
    "import keras.backend as K\n",
    "import sys\n",
    "sys.path.insert(0, '../utils')\n",
    "from utils import *\n",
    "sys.path.insert(0,'../preprocessing')\n",
    "from data_config import config as d_config\n",
    "sys.path.insert(0, '../train')\n",
    "from model_configs import get_weighted_bce\n",
    "from keras.utils.generic_utils import get_custom_objects"
   ]
  },
  {
   "cell_type": "code",
   "execution_count": 2,
   "metadata": {},
   "outputs": [],
   "source": [
    "#defining custom loss function\n",
    "pos_weight = 1 #this setting doesn't matter here, just helps to load the model\n",
    "weighted_bce = get_weighted_bce(pos_weight)\n",
    "get_custom_objects().update({\"weighted_bce\": weighted_bce})"
   ]
  },
  {
   "cell_type": "code",
   "execution_count": 3,
   "metadata": {},
   "outputs": [],
   "source": [
    "#load label model\n",
    "\n",
    "#SET THESE: the folder and the name of the desired label model\n",
    "folder = 'feed_forward_Wed_May_22_15-35-51_2019' \n",
    "model_name = 'ep_3_tp_0.942_fp_0.069_f_1_0.936_f_2_0.94_chain_5_thresh_0.9' \n",
    "\n",
    "flattened_input = True #true for feed forward, false for resnet\n",
    "\n",
    "model_name_split = model_name.split('_')\n",
    "thresholds = [float(model_name_split[-1])]\n",
    "chaining_dists = [float(model_name_split[-3])]\n",
    "model = keras.models.load_model('../models/label_models/' + folder + '/' + model_name,\n",
    "                               custom_objects={'loss': weighted_bce })"
   ]
  },
  {
   "cell_type": "code",
   "execution_count": 4,
   "metadata": {},
   "outputs": [],
   "source": [
    "correction_model = None"
   ]
  },
  {
   "cell_type": "code",
   "execution_count": 5,
   "metadata": {},
   "outputs": [],
   "source": [
    "#run this cell if using correction model\n",
    "def avgabs(y_true,y_pred): ##in seconds (if perturbation_max = 5*fs)\n",
    "    return K.mean(K.abs(5*(y_true - y_pred)))\n",
    "\n",
    "correction_model = keras.models.load_model('../models/correction_models/correction_model.h5', \n",
    "                                           custom_objects={'avgabs': avgabs})"
   ]
  },
  {
   "cell_type": "code",
   "execution_count": 6,
   "metadata": {},
   "outputs": [],
   "source": [
    "#get file numbers\n",
    "data_config = d_config()\n",
    "\n",
    "train = data_config.train_files\n",
    "val = data_config.val_files\n",
    "test = data_config.test_files"
   ]
  },
  {
   "cell_type": "code",
   "execution_count": 9,
   "metadata": {},
   "outputs": [
    {
     "name": "stdout",
     "output_type": "stream",
     "text": [
      "The true positive rate for tolerance  5  seconds is  0.943\n",
      "The false positive rate for tolerance  5  seconds is  0.068\n",
      "Total lunges in files:  914\n",
      "Num correct lunges:  862\n",
      "Num predicted lunges:  925\n",
      "We overcount by  0\n",
      "We are off by an average of this many seconds:  0.33341067285382775\n",
      "The f_1 score is  0.937\n",
      "The f_2 score is  0.941\n"
     ]
    },
    {
     "data": {
      "image/png": "[encoded data removed]",
      "text/plain": [
       "<matplotlib.figure.Figure at 0x10f0e5c50>"
      ]
     },
     "metadata": {},
     "output_type": "display_data"
    }
   ],
   "source": [
    "#run evaluation\n",
    "tolerance_seconds = 5 \n",
    "evaluation_files = val\n",
    "\n",
    "model_metrics = get_model_metrics(evaluation_files, model, flattened_input, tolerance_seconds, \n",
    "                                  correction_model=correction_model, chaining_dists=chaining_dists, thresholds=thresholds)\n",
    "print_model_metrics(model_metrics)"
   ]
  },
  {
   "cell_type": "code",
   "execution_count": null,
   "metadata": {},
   "outputs": [],
   "source": []
  }
 ],
 "metadata": {
  "kernelspec": {
   "display_name": "Python 3",
   "language": "python",
   "name": "python3"
  },
  "language_info": {
   "codemirror_mode": {
    "name": "ipython",
    "version": 3
   },
   "file_extension": ".py",
   "mimetype": "text/x-python",
   "name": "python",
   "nbconvert_exporter": "python",
   "pygments_lexer": "ipython3",
   "version": "3.6.7"
  }
 },
 "nbformat": 4,
 "nbformat_minor": 2
}
