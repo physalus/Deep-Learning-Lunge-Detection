{
 "cells": [
  {
   "cell_type": "code",
   "execution_count": 1,
   "metadata": {},
   "outputs": [
    {
     "name": "stderr",
     "output_type": "stream",
     "text": [
      "Using TensorFlow backend.\n"
     ]
    }
   ],
   "source": [
    "import numpy as np\n",
    "import math\n",
    "import keras\n",
    "import matplotlib.pyplot as plt\n",
    "import keras.backend as K\n",
    "import sys\n",
    "sys.path.insert(0, '../utils')\n",
    "from utils import *\n",
    "sys.path.insert(0,'../preprocessing')\n",
    "from data_config import config as d_config\n",
    "sys.path.insert(0, '../train')\n",
    "from model_configs import get_weighted_bce\n",
    "from keras.utils.generic_utils import get_custom_objects"
   ]
  },
  {
   "cell_type": "code",
   "execution_count": 2,
   "metadata": {},
   "outputs": [],
   "source": [
    "#defining custom loss function\n",
    "pos_weight = 1 #this setting doesn't matter here, just helps to load the model\n",
    "weighted_bce = get_weighted_bce(pos_weight)\n",
    "get_custom_objects().update({\"weighted_bce\": weighted_bce})"
   ]
  },
  {
   "cell_type": "code",
   "execution_count": 3,
   "metadata": {},
   "outputs": [
    {
     "name": "stdout",
     "output_type": "stream",
     "text": [
      "WARNING:tensorflow:From /home/willi/Desktop/github/whales/new_user/Deep-Learning-Lunge-Detection/venv/lib/python3.6/site-packages/tensorflow/python/framework/op_def_library.py:263: colocate_with (from tensorflow.python.framework.ops) is deprecated and will be removed in a future version.\n",
      "Instructions for updating:\n",
      "Colocations handled automatically by placer.\n",
      "WARNING:tensorflow:From /home/willi/Desktop/github/whales/new_user/Deep-Learning-Lunge-Detection/venv/lib/python3.6/site-packages/tensorflow/python/ops/math_ops.py:3066: to_int32 (from tensorflow.python.ops.math_ops) is deprecated and will be removed in a future version.\n",
      "Instructions for updating:\n",
      "Use tf.cast instead.\n"
     ]
    }
   ],
   "source": [
    "#load label model\n",
    "\n",
    "#SET THESE: the folder and the name of the desired label model, as well as flattened_input\n",
    "folder = 'feed_forward_Sat_Aug__3_11-51-22_2019'\n",
    "model_name = 'ep_2_tp_0.983_fp_0.0_f_1_0.991_f_2_0.986_chain_2_thresh_0.5'\n",
    "flattened_input = True #true for feed forward, false for resnet\n",
    "\n",
    "model_name_split = model_name.split('_')\n",
    "thresholds = [float(model_name_split[-1])]\n",
    "chaining_dists = [float(model_name_split[-3])]\n",
    "model = keras.models.load_model('../models/label_models/' + folder + '/' + model_name,\n",
    "                               custom_objects={'loss': weighted_bce })"
   ]
  },
  {
   "cell_type": "code",
   "execution_count": 4,
   "metadata": {},
   "outputs": [],
   "source": [
    "correction_model = None"
   ]
  },
  {
   "cell_type": "code",
   "execution_count": 5,
   "metadata": {},
   "outputs": [],
   "source": [
    "#run this cell if using correction model\n",
    "def avgabs(y_true,y_pred): ##in seconds (if perturbation_max = 5*fs)\n",
    "    return K.mean(K.abs(5*(y_true - y_pred)))\n",
    "\n",
    "correction_model = keras.models.load_model('../models/correction_models/correction_model.h5', \n",
    "                                           custom_objects={'avgabs': avgabs})"
   ]
  },
  {
   "cell_type": "code",
   "execution_count": 6,
   "metadata": {},
   "outputs": [],
   "source": [
    "#get file numbers\n",
    "data_config = d_config()\n",
    "\n",
    "train = data_config.train_files\n",
    "val = data_config.val_files\n",
    "test = data_config.test_files"
   ]
  },
  {
   "cell_type": "code",
   "execution_count": 7,
   "metadata": {},
   "outputs": [
    {
     "name": "stdout",
     "output_type": "stream",
     "text": [
      "The true positive rate for tolerance  5  seconds is  0.981\n",
      "The false positive rate for tolerance  5  seconds is  0.0\n",
      "Total lunges in files:  54\n",
      "Num correct lunges:  53\n",
      "Num predicted lunges:  53\n",
      "We overcount by  0\n",
      "We are off by an average of this many seconds:  0.2490566037735849\n",
      "The f_1 score is  0.991\n",
      "The f_2 score is  0.985\n"
     ]
    },
    {
     "data": {
      "image/png": "[encoded data removed]",
      "text/plain": [
       "<Figure size 432x288 with 1 Axes>"
      ]
     },
     "metadata": {
      "needs_background": "light"
     },
     "output_type": "display_data"
    }
   ],
   "source": [
    "#run evaluation\n",
    "\n",
    "#SET THESE: the tolerance seconds and the list of files to evaluate on (usually val or test)\n",
    "tolerance_seconds = 5 \n",
    "evaluation_files = test \n",
    "\n",
    "model_metrics = get_model_metrics(evaluation_files, model, flattened_input, tolerance_seconds, \n",
    "                                  correction_model=correction_model, chaining_dists=chaining_dists, thresholds=thresholds)\n",
    "print_model_metrics(model_metrics)"
   ]
  },
  {
   "cell_type": "code",
   "execution_count": null,
   "metadata": {},
   "outputs": [],
   "source": []
  }
 ],
 "metadata": {
  "kernelspec": {
   "display_name": "Python 3",
   "language": "python",
   "name": "python3"
  },
  "language_info": {
   "codemirror_mode": {
    "name": "ipython",
    "version": 3
   },
   "file_extension": ".py",
   "mimetype": "text/x-python",
   "name": "python",
   "nbconvert_exporter": "python",
   "pygments_lexer": "ipython3",
   "version": "3.6.7"
  }
 },
 "nbformat": 4,
 "nbformat_minor": 2
}
