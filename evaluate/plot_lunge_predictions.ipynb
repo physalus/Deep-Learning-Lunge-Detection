{
 "cells": [
  {
   "cell_type": "markdown",
   "metadata": {},
   "source": [
    "### This notebook plots the model predictions on the features of an inputs file.###"
   ]
  },
  {
   "cell_type": "code",
   "execution_count": null,
   "metadata": {},
   "outputs": [],
   "source": [
    "import numpy as np\n",
    "import math\n",
    "import keras\n",
    "import matplotlib.pyplot as plt\n",
    "import keras.backend as K\n",
    "import sys\n",
    "sys.path.insert(0, '../utils')\n",
    "from utils import *\n",
    "sys.path.insert(0,'../preprocessing')\n",
    "from data_config import config as d_config\n",
    "sys.path.insert(0, '../train')\n",
    "from model_configs import get_weighted_bce\n",
    "from keras.utils.generic_utils import get_custom_objects"
   ]
  },
  {
   "cell_type": "code",
   "execution_count": null,
   "metadata": {},
   "outputs": [],
   "source": [
    "#get file numbers\n",
    "data_config = d_config()\n",
    "\n",
    "fs = data_config.fs\n",
    "num_features = data_config.num_features\n",
    "\n",
    "print('Train files: ', data_config.train_files)\n",
    "print('Val files: ', data_config.val_files)\n",
    "print('Test files: ',data_config.test_files)"
   ]
  },
  {
   "cell_type": "code",
   "execution_count": null,
   "metadata": {},
   "outputs": [],
   "source": [
    "file_num = 5\n",
    "\n",
    "features = np.load('../preprocessing/numpy_data/inputs/inputs_' + str(file_num) + '.npy')\n",
    "labels = np.load('../preprocessing/numpy_data/labels/labels_' + str(file_num) + '.npy')\n",
    "\n",
    "totalSeconds = int(len(labels))/fs\n",
    "\n",
    "print ('Seconds of lunge data: ', totalSeconds)\n",
    "print ('Hours: ', totalSeconds/3600)"
   ]
  },
  {
   "cell_type": "code",
   "execution_count": null,
   "metadata": {},
   "outputs": [],
   "source": [
    "#defining custom loss function\n",
    "pos_weight = 1 #this setting doesn't matter here, just helps to load the model\n",
    "weighted_bce = get_weighted_bce(pos_weight)\n",
    "get_custom_objects().update({\"weighted_bce\": weighted_bce})"
   ]
  },
  {
   "cell_type": "code",
   "execution_count": null,
   "metadata": {
    "scrolled": true
   },
   "outputs": [],
   "source": [
    "#load label model\n",
    "\n",
    "#SET THESE: the folder and the name of the desired label model\n",
    "folder = 'feed_forward_Sat_Aug__3_11-51-22_2019'\n",
    "model_name = 'ep_2_tp_0.983_fp_0.0_f_1_0.991_f_2_0.986_chain_2_thresh_0.5'\n",
    "\n",
    "flattened_input = True #true for feed forward, false for resnet\n",
    "\n",
    "model_name_split = model_name.split('_')\n",
    "thresholds = [float(model_name_split[-1])]\n",
    "chaining_dists = [float(model_name_split[-3])]\n",
    "model = keras.models.load_model('../models/label_models/' + folder + '/' + model_name,\n",
    "                               custom_objects={'loss': weighted_bce })"
   ]
  },
  {
   "cell_type": "code",
   "execution_count": null,
   "metadata": {},
   "outputs": [],
   "source": [
    "correction_model = None"
   ]
  },
  {
   "cell_type": "code",
   "execution_count": null,
   "metadata": {},
   "outputs": [],
   "source": [
    "#run this cell if using correction model\n",
    "def avgabs(y_true,y_pred): ##in seconds (if perturbation_max = 5*fs)\n",
    "    return K.mean(K.abs(5*(y_true - y_pred)))\n",
    "\n",
    "correction_model = keras.models.load_model('../models/correction_models/correction_model.h5', \n",
    "                                           custom_objects={'avgabs': avgabs})"
   ]
  },
  {
   "cell_type": "code",
   "execution_count": null,
   "metadata": {},
   "outputs": [],
   "source": [
    "# Plot the features with lunge labels from startTime to endTime\n",
    "startTime = 100\n",
    "endTime = 500\n",
    "windowTime = endTime-startTime\n",
    "\n",
    "startSample = startTime*fs\n",
    "numSamples = windowTime*fs\n",
    "\n",
    "\n",
    "selected_features = features[startSample:startSample+numSamples,:]\n",
    "selected_labels = labels[startSample:startSample+numSamples]\n",
    "\n",
    "t = np.linspace(startTime,startTime+windowTime,numSamples)\n",
    "tmp = np.where(selected_labels == 1)[0]\n",
    "markers = [tmp[i] for i in range(len(tmp))]\n",
    "\n",
    "plt.rcParams['lines.markersize'] = 10\n",
    "h = 4 #fig width/height\n",
    "w = 15\n",
    "colors = ['r', 'b', 'g', 'k', 'm']\n",
    "\n",
    "for i in range(num_features):\n",
    "    plt.figure(figsize=(w, h))\n",
    "    x = selected_features[:, i]\n",
    "    plt.plot(t,x,marker='o', color=colors[i%len(colors)], label='Feature {}'.format(i), markevery=markers)\n",
    "    plt.xlabel('Time (seconds)')\n",
    "    plt.legend()\n",
    "plt.show()"
   ]
  },
  {
   "cell_type": "code",
   "execution_count": null,
   "metadata": {},
   "outputs": [],
   "source": [
    "print('The lunge times are :')\n",
    "print (np.where(labels == 1)[0]/fs)"
   ]
  },
  {
   "cell_type": "code",
   "execution_count": null,
   "metadata": {},
   "outputs": [],
   "source": [
    "pred_labels, __ = get_predictions(features, model, flattened_input, correction_model)\n",
    "pred_labels = np.array(pred_labels)"
   ]
  },
  {
   "cell_type": "code",
   "execution_count": null,
   "metadata": {},
   "outputs": [],
   "source": [
    "# Plot the features with lunge labels and model predictions from startTime to endTime\n",
    "startTime = 100\n",
    "endTime = 500\n",
    "windowTime = endTime-startTime\n",
    "\n",
    "startSample = startTime*fs\n",
    "numSamples = windowTime*fs\n",
    "\n",
    "\n",
    "selected_features = features[startSample:startSample+numSamples,:]\n",
    "selected_labels = labels[startSample:startSample+numSamples]\n",
    "\n",
    "t = np.linspace(startTime,startTime+windowTime,numSamples)\n",
    "\n",
    "tmp = np.where(selected_labels == 1)[0]\n",
    "true_label_markers = [tmp[i] for i in range(len(tmp))]\n",
    "prediction_markers = [s - startSample for s in pred_labels if s>= startSample and s<startSample+numSamples]\n",
    "\n",
    "plt.rcParams['lines.markersize'] = 10\n",
    "h = 4 #fig width/height\n",
    "w = 15\n",
    "\n",
    "colors = ['r', 'b', 'g', 'k', 'm']\n",
    "\n",
    "for i in range(num_features):\n",
    "    fig = plt.figure(figsize=(w, h))\n",
    "    x = selected_features[:,i]\n",
    "    plt.plot(t,x,marker='o', color=colors[i%5], label='Feature {}'.format(i), markevery=true_label_markers)\n",
    "    plt.scatter(t[prediction_markers],x[prediction_markers], label='Model Prediction', marker='^', color='m',s = 200)\n",
    "    plt.xlabel('Time (seconds)')\n",
    "    plt.legend()\n",
    "plt.show()"
   ]
  },
  {
   "cell_type": "code",
   "execution_count": null,
   "metadata": {},
   "outputs": [],
   "source": []
  }
 ],
 "metadata": {
  "kernelspec": {
   "display_name": "Python 3",
   "language": "python",
   "name": "python3"
  },
  "language_info": {
   "codemirror_mode": {
    "name": "ipython",
    "version": 3
   },
   "file_extension": ".py",
   "mimetype": "text/x-python",
   "name": "python",
   "nbconvert_exporter": "python",
   "pygments_lexer": "ipython3",
   "version": "3.6.7"
  }
 },
 "nbformat": 4,
 "nbformat_minor": 2
}
